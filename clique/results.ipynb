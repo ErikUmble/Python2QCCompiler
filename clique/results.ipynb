{
 "cells": [
  {
   "cell_type": "code",
   "execution_count": 1,
   "id": "dce323d4",
   "metadata": {},
   "outputs": [],
   "source": [
    "from clique_benchmark import Trials"
   ]
  },
  {
   "cell_type": "code",
   "execution_count": 2,
   "id": "db5210ee",
   "metadata": {},
   "outputs": [],
   "source": [
    "# run this cell to load the job results for all trials that are waiting pending job results\n",
    "trials = Trials()\n",
    "await trials.load_results()"
   ]
  },
  {
   "cell_type": "code",
   "execution_count": 7,
   "id": "a0243830",
   "metadata": {},
   "outputs": [
    {
     "name": "stdout",
     "output_type": "stream",
     "text": [
      "011011\n",
      "2\n"
     ]
    }
   ],
   "source": [
    "print(trials.get(graph_id=74)[0].graph.g)\n",
    "print(trials.get(graph_id=74)[0].clique_size)"
   ]
  },
  {
   "cell_type": "code",
   "execution_count": 4,
   "id": "b8f6533c",
   "metadata": {},
   "outputs": [
    {
     "name": "stdout",
     "output_type": "stream",
     "text": [
      "[('0101', 715), ('0111', 710), ('1101', 670), ('1100', 665), ('1000', 657), ('0000', 654), ('0100', 646), ('1010', 639), ('1111', 631), ('0110', 630), ('1110', 618), ('0011', 596), ('0010', 573), ('1011', 563), ('1001', 526), ('0001', 507)]\n",
      "[('0101', 2050), ('1001', 1916), ('1100', 1892), ('1010', 1856), ('1101', 1852), ('0000', 52), ('0100', 48), ('1111', 47), ('0010', 44), ('0011', 43), ('1000', 40), ('1011', 40), ('1110', 37), ('0001', 31), ('0111', 28), ('0110', 24)]\n"
     ]
    }
   ],
   "source": [
    "print(sorted(trials.get(graph_id=74)[0].counts.items(), key=lambda t: t[1], reverse=True))\n",
    "print(sorted(trials.get(graph_id=74)[0].simulation_counts.items(), key=lambda t: t[1], reverse=True))"
   ]
  },
  {
   "cell_type": "code",
   "execution_count": null,
   "id": "0629f4d3",
   "metadata": {},
   "outputs": [],
   "source": []
  }
 ],
 "metadata": {
  "kernelspec": {
   "display_name": ".venv-quantum-experiments",
   "language": "python",
   "name": "python3"
  },
  "language_info": {
   "codemirror_mode": {
    "name": "ipython",
    "version": 3
   },
   "file_extension": ".py",
   "mimetype": "text/x-python",
   "name": "python",
   "nbconvert_exporter": "python",
   "pygments_lexer": "ipython3",
   "version": "3.10.16"
  }
 },
 "nbformat": 4,
 "nbformat_minor": 5
}
