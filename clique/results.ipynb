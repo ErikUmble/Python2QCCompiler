{
 "cells": [
  {
   "cell_type": "code",
   "execution_count": null,
   "id": "dce323d4",
   "metadata": {},
   "outputs": [],
   "source": [
    "from clique_benchmark import Trials\n",
    "from graph_database import Graphs, Graph\n",
    "import matplotlib.pyplot as plt\n",
    "import numpy as np\n",
    "graph_db = Graphs()\n",
    "trial_db = Trials()"
   ]
  },
  {
   "cell_type": "code",
   "execution_count": null,
   "id": "db5210ee",
   "metadata": {},
   "outputs": [],
   "source": [
    "# run this cell to load the job results for all trials that are waiting pending job results\n",
    "await trial_db.load_results()"
   ]
  },
  {
   "cell_type": "code",
   "execution_count": null,
   "id": "a0243830",
   "metadata": {},
   "outputs": [],
   "source": [
    "for grover_iterations in range(1, 6):\n",
    "    print(f\"Grover iterations: {grover_iterations}\")\n",
    "    for trial in trial_db.get(grover_iterations=grover_iterations):\n",
    "        print(f\"Trial {trial.trial_id} with graph: {trial.graph}\")\n",
    "        print(sorted(trial.counts.items(), key=lambda t: t[1], reverse=True))\n",
    "        print(sorted(trial.simulation_counts.items(), key=lambda t: t[1], reverse=True))\n",
    "        print(trial.success_rate)\n",
    "        print(trial.simulation_success_rate)\n",
    "        print(trial.expected_success_rate)\n",
    "        print(\"\")"
   ]
  },
  {
   "cell_type": "code",
   "execution_count": null,
   "id": "bb0f4f3e",
   "metadata": {},
   "outputs": [],
   "source": [
    "def get_probability_data(trial_db):\n",
    "    n_data = []\n",
    "    grover_iterations_data = []\n",
    "    probability_data = []\n",
    "\n",
    "    for n in range(2, 21):\n",
    "        for grover_iterations in range(1, 6):\n",
    "            print(f\"(n, grover_iterations) = ({n}, {grover_iterations})\")\n",
    "            trials = trial_db.get(n=n, grover_iterations=grover_iterations)\n",
    "\n",
    "            if len(trials) == 0:\n",
    "                print(f\"Warning: no results for {n} variables, complexity {grover_iterations}; skipping\")\n",
    "                continue\n",
    "\n",
    "            success_rates = np.zeros(len(trials))\n",
    "            expected_success_rates = np.zeros(len(trials))\n",
    "\n",
    "            for i, trial in enumerate(trials):\n",
    "                success_rates[i] = trial.success_rate\n",
    "                expected_success_rates[i] = trial.expected_success_rate\n",
    "            \n",
    "            n_data.append(n)\n",
    "            grover_iterations_data.append(grover_iterations)\n",
    "            probability_data.append(np.mean(success_rates / expected_success_rates))\n",
    "            print(f\"Mean success rate over expected: {probability_data[-1]}\")\n",
    "    \n",
    "    return n_data, grover_iterations_data, probability_data\n",
    "\n",
    "def plot_probability_data(n_data, grover_iterations_data, probability_data, title, filepath=None):\n",
    "    plt.figure(figsize=(20, 10))\n",
    "    plt.scatter(n_data, grover_iterations_data, c=probability_data, cmap='RdYlGn', edgecolors='black', alpha=0.75, s=450)\n",
    "    plt.xticks(np.arange(min(n_data), max(n_data) + 1, 1))\n",
    "    plt.yticks(np.arange(min(grover_iterations_data), max(grover_iterations_data) + 1, 1))\n",
    "\n",
    "    plt.xlabel('Verticies Count')\n",
    "    plt.ylabel('Grover Iterations')\n",
    "    plt.title(title)\n",
    "    cbar = plt.colorbar()\n",
    "    if filepath is not None:\n",
    "        plt.savefig(filepath, dpi=300, bbox_inches='tight')\n",
    "    plt.show()"
   ]
  },
  {
   "cell_type": "code",
   "execution_count": null,
   "id": "57beec4b",
   "metadata": {},
   "outputs": [],
   "source": [
    "n_data, grover_iterations_data, probability_data = get_probability_data(trial_db)"
   ]
  },
  {
   "cell_type": "code",
   "execution_count": null,
   "id": "c8ab5bf8",
   "metadata": {},
   "outputs": [],
   "source": [
    "plot_probability_data(n_data, grover_iterations_data, probability_data, \"Success Rate Over Expected Success Rate\", filepath=\"mean_success_rate_over_expected.png\")"
   ]
  },
  {
   "cell_type": "code",
   "execution_count": null,
   "id": "29751825",
   "metadata": {},
   "outputs": [],
   "source": []
  }
 ],
 "metadata": {
  "kernelspec": {
   "display_name": ".venv-quantum-experiments",
   "language": "python",
   "name": "python3"
  },
  "language_info": {
   "codemirror_mode": {
    "name": "ipython",
    "version": 3
   },
   "file_extension": ".py",
   "mimetype": "text/x-python",
   "name": "python",
   "nbconvert_exporter": "python",
   "pygments_lexer": "ipython3",
   "version": "3.10.16"
  }
 },
 "nbformat": 4,
 "nbformat_minor": 5
}
