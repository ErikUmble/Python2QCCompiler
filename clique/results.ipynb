{
 "cells": [
  {
   "cell_type": "code",
   "execution_count": 2,
   "id": "dce323d4",
   "metadata": {},
   "outputs": [],
   "source": [
    "from clique_benchmark import Trials\n",
    "from graph_database import Graphs, Graph\n",
    "graph_db = Graphs()\n",
    "trials = Trials()"
   ]
  },
  {
   "cell_type": "code",
   "execution_count": 7,
   "id": "db5210ee",
   "metadata": {},
   "outputs": [],
   "source": [
    "# run this cell to load the job results for all trials that are waiting pending job results\n",
    "trials = Trials()\n",
    "await trials.load_results()"
   ]
  },
  {
   "cell_type": "code",
   "execution_count": 11,
   "id": "a0243830",
   "metadata": {},
   "outputs": [
    {
     "name": "stdout",
     "output_type": "stream",
     "text": [
      "011011\n",
      "2\n",
      "2\n",
      "[16, 9, 5, 1, 0]\n"
     ]
    }
   ],
   "source": [
    "print(trials.get(graph_id=74)[0].graph.g)\n",
    "print(trials.get(graph_id=74)[0].clique_size)\n",
    "print(trials.get(graph_id=74)[0].grover_iterations)\n",
    "print(graph_db.get(graph_id=74)[0].clique_counts)"
   ]
  },
  {
   "cell_type": "code",
   "execution_count": 4,
   "id": "b8f6533c",
   "metadata": {},
   "outputs": [
    {
     "name": "stdout",
     "output_type": "stream",
     "text": [
      "[('0101', 715), ('0111', 710), ('1101', 670), ('1100', 665), ('1000', 657), ('0000', 654), ('0100', 646), ('1010', 639), ('1111', 631), ('0110', 630), ('1110', 618), ('0011', 596), ('0010', 573), ('1011', 563), ('1001', 526), ('0001', 507)]\n",
      "[('0101', 2050), ('1001', 1916), ('1100', 1892), ('1010', 1856), ('1101', 1852), ('0000', 52), ('0100', 48), ('1111', 47), ('0010', 44), ('0011', 43), ('1000', 40), ('1011', 40), ('1110', 37), ('0001', 31), ('0111', 28), ('0110', 24)]\n"
     ]
    }
   ],
   "source": [
    "print(sorted(trials.get(graph_id=74)[0].counts.items(), key=lambda t: t[1], reverse=True))\n",
    "print(sorted(trials.get(graph_id=74)[0].simulation_counts.items(), key=lambda t: t[1], reverse=True))"
   ]
  },
  {
   "cell_type": "code",
   "execution_count": 10,
   "id": "0629f4d3",
   "metadata": {},
   "outputs": [
    {
     "name": "stdout",
     "output_type": "stream",
     "text": [
      "1111101111\n",
      "2\n",
      "1\n",
      "18\n",
      "[('11000', 350), ('10100', 331), ('01001', 329), ('10010', 328), ('01010', 327), ('01000', 326), ('00110', 325), ('11100', 325), ('10000', 318), ('10110', 318), ('00011', 318), ('01100', 316), ('11111', 315), ('00100', 315), ('10011', 313), ('00101', 312), ('10001', 311), ('11101', 310), ('11011', 310), ('10101', 308), ('01110', 307), ('01011', 307), ('11110', 304), ('11010', 303), ('01101', 302), ('11001', 302), ('10111', 299), ('00010', 298), ('00111', 297), ('01111', 296), ('00000', 293), ('00001', 287)]\n",
      "[('00100', 353), ('11011', 351), ('10101', 343), ('10111', 334), ('01000', 334), ('00011', 331), ('11111', 329), ('10010', 327), ('10001', 326), ('11101', 322), ('11010', 316), ('01111', 316), ('10100', 314), ('00101', 312), ('11100', 311), ('10000', 310), ('01110', 309), ('01011', 306), ('01001', 306), ('10110', 306), ('00010', 305), ('11000', 305), ('00001', 303), ('01100', 301), ('10011', 300), ('11001', 300), ('11110', 298), ('00110', 296), ('00000', 296), ('01101', 293), ('01010', 287), ('00111', 260)]\n"
     ]
    }
   ],
   "source": [
    "print(trials.get(graph_id=51376)[0].graph.g)\n",
    "print(trials.get(graph_id=51376)[0].clique_size)\n",
    "print(trials.get(graph_id=51376)[0].grover_iterations)\n",
    "print(graph_db.get(graph_id=51376)[0].clique_counts[2])\n",
    "print(sorted(trials.get(graph_id=51376)[0].counts.items(), key=lambda t: t[1], reverse=True))\n",
    "print(sorted(trials.get(graph_id=51376)[0].simulation_counts.items(), key=lambda t: t[1], reverse=True))"
   ]
  },
  {
   "cell_type": "code",
   "execution_count": null,
   "id": "bb0f4f3e",
   "metadata": {},
   "outputs": [],
   "source": []
  }
 ],
 "metadata": {
  "kernelspec": {
   "display_name": ".venv-quantum-experiments",
   "language": "python",
   "name": "python3"
  },
  "language_info": {
   "codemirror_mode": {
    "name": "ipython",
    "version": 3
   },
   "file_extension": ".py",
   "mimetype": "text/x-python",
   "name": "python",
   "nbconvert_exporter": "python",
   "pygments_lexer": "ipython3",
   "version": "3.10.16"
  }
 },
 "nbformat": 4,
 "nbformat_minor": 5
}
