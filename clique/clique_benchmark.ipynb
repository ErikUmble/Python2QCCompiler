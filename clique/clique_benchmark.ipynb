{
 "cells": [
  {
   "cell_type": "code",
   "execution_count": 1,
   "id": "2e483942",
   "metadata": {},
   "outputs": [],
   "source": [
    "from clique_benchmark import run_benchmark_sample, clique_oracle_compiler_classical_function, Trials, CompileType\n",
    "from graph_database import Graphs, Graph"
   ]
  },
  {
   "cell_type": "code",
   "execution_count": 2,
   "id": "ce00850c",
   "metadata": {},
   "outputs": [
    {
     "name": "stdout",
     "output_type": "stream",
     "text": [
      "011011\n",
      "2\n"
     ]
    }
   ],
   "source": [
    "graph_db = Graphs()\n",
    "graph = graph_db.get(graph_id=74)[0]\n",
    "print(graph)\n",
    "from clique_benchmark import _clique_size_to_search_for\n",
    "print(_clique_size_to_search_for(graph, 2))\n"
   ]
  },
  {
   "cell_type": "code",
   "execution_count": 3,
   "id": "ebaa0606",
   "metadata": {},
   "outputs": [
    {
     "name": "stdout",
     "output_type": "stream",
     "text": [
      "Running benchmark sample for 011011\n",
      "Looking for a clique with 2 vertices\n"
     ]
    },
    {
     "data": {
      "text/plain": [
       "<clique_benchmark.Trial at 0x7f5ee70bbb50>"
      ]
     },
     "execution_count": 3,
     "metadata": {},
     "output_type": "execute_result"
    }
   ],
   "source": [
    "run_benchmark_sample(\n",
    "    graph=graph,\n",
    "    clique_oracle_compiler=clique_oracle_compiler_classical_function,\n",
    "    compile_type=CompileType.CLASSICAL_FUNCTION,\n",
    "    grover_iterations=2\n",
    ")"
   ]
  },
  {
   "cell_type": "code",
   "execution_count": 11,
   "id": "ebcf8d69",
   "metadata": {},
   "outputs": [
    {
     "data": {
      "text/plain": [
       "71"
      ]
     },
     "execution_count": 11,
     "metadata": {},
     "output_type": "execute_result"
    }
   ],
   "source": [
    "graph.graph_id"
   ]
  },
  {
   "cell_type": "code",
   "execution_count": 46,
   "id": "f1ecda6b",
   "metadata": {},
   "outputs": [
    {
     "ename": "ZeroDivisionError",
     "evalue": "float division by zero",
     "output_type": "error",
     "traceback": [
      "\u001b[0;31m---------------------------------------------------------------------------\u001b[0m",
      "\u001b[0;31mZeroDivisionError\u001b[0m                         Traceback (most recent call last)",
      "Cell \u001b[0;32mIn[46], line 2\u001b[0m\n\u001b[1;32m      1\u001b[0m \u001b[38;5;28;01mfor\u001b[39;00m graph \u001b[38;5;129;01min\u001b[39;00m graph_db\u001b[38;5;241m.\u001b[39mget(n\u001b[38;5;241m=\u001b[39m\u001b[38;5;241m4\u001b[39m, p\u001b[38;5;241m=\u001b[39m\u001b[38;5;241m39\u001b[39m):\n\u001b[0;32m----> 2\u001b[0m     \u001b[38;5;28;01mif\u001b[39;00m \u001b[43m_clique_size_to_search_for\u001b[49m\u001b[43m(\u001b[49m\u001b[43mgraph\u001b[49m\u001b[43m,\u001b[49m\u001b[43m \u001b[49m\u001b[38;5;241;43m2\u001b[39;49m\u001b[43m)\u001b[49m \u001b[38;5;241m>\u001b[39m \u001b[38;5;241m1\u001b[39m:\n\u001b[1;32m      3\u001b[0m         \u001b[38;5;28mprint\u001b[39m(graph\u001b[38;5;241m.\u001b[39mgraph_id)\n\u001b[1;32m      4\u001b[0m         \u001b[38;5;28mprint\u001b[39m(graph)\n",
      "File \u001b[0;32m~/projects/Python2QCCompiler/clique/clique_benchmark.py:415\u001b[0m, in \u001b[0;36m_clique_size_to_search_for\u001b[0;34m(graph, target_grover_iterations)\u001b[0m\n\u001b[1;32m    410\u001b[0m \u001b[38;5;250m\u001b[39m\u001b[38;5;124;03m\"\"\"\u001b[39;00m\n\u001b[1;32m    411\u001b[0m \u001b[38;5;124;03mGiven a graph and a target number of grover iterations, this returns the largest clique size\u001b[39;00m\n\u001b[1;32m    412\u001b[0m \u001b[38;5;124;03mto search for such that the number of iterations is equal to the target\u001b[39;00m\n\u001b[1;32m    413\u001b[0m \u001b[38;5;124;03m\"\"\"\u001b[39;00m\n\u001b[1;32m    414\u001b[0m clique_size \u001b[38;5;241m=\u001b[39m \u001b[38;5;241m1\u001b[39m\n\u001b[0;32m--> 415\u001b[0m \u001b[38;5;28;01mwhile\u001b[39;00m clique_size \u001b[38;5;241m<\u001b[39m \u001b[38;5;28mlen\u001b[39m(graph\u001b[38;5;241m.\u001b[39mclique_counts) \u001b[38;5;129;01mand\u001b[39;00m \u001b[43mnum_grover_iterations\u001b[49m\u001b[43m(\u001b[49m\u001b[43mgraph\u001b[49m\u001b[38;5;241;43m.\u001b[39;49m\u001b[43mn\u001b[49m\u001b[43m,\u001b[49m\u001b[43m \u001b[49m\u001b[43mgraph\u001b[49m\u001b[38;5;241;43m.\u001b[39;49m\u001b[43mclique_counts\u001b[49m\u001b[43m[\u001b[49m\u001b[43mclique_size\u001b[49m\u001b[43m]\u001b[49m\u001b[43m)\u001b[49m \u001b[38;5;241m<\u001b[39m target_grover_iterations:\n\u001b[1;32m    416\u001b[0m     clique_size \u001b[38;5;241m+\u001b[39m\u001b[38;5;241m=\u001b[39m \u001b[38;5;241m1\u001b[39m\n\u001b[1;32m    418\u001b[0m \u001b[38;5;28;01mreturn\u001b[39;00m clique_size \u001b[38;5;241m-\u001b[39m \u001b[38;5;241m1\u001b[39m\n",
      "File \u001b[0;32m~/projects/Python2QCCompiler/clique/clique_benchmark.py:36\u001b[0m, in \u001b[0;36mnum_grover_iterations\u001b[0;34m(n, m)\u001b[0m\n\u001b[1;32m     34\u001b[0m \u001b[38;5;28;01mdef\u001b[39;00m \u001b[38;5;21mnum_grover_iterations\u001b[39m(n, m):\n\u001b[1;32m     35\u001b[0m     \u001b[38;5;28;01mreturn\u001b[39;00m math\u001b[38;5;241m.\u001b[39mfloor(\n\u001b[0;32m---> 36\u001b[0m         \u001b[43mmath\u001b[49m\u001b[38;5;241;43m.\u001b[39;49m\u001b[43mpi\u001b[49m\u001b[43m \u001b[49m\u001b[38;5;241;43m/\u001b[39;49m\u001b[43m \u001b[49m\u001b[43m(\u001b[49m\u001b[38;5;241;43m4\u001b[39;49m\u001b[43m \u001b[49m\u001b[38;5;241;43m*\u001b[39;49m\u001b[43m \u001b[49m\u001b[43mmath\u001b[49m\u001b[38;5;241;43m.\u001b[39;49m\u001b[43masin\u001b[49m\u001b[43m(\u001b[49m\u001b[43mmath\u001b[49m\u001b[38;5;241;43m.\u001b[39;49m\u001b[43msqrt\u001b[49m\u001b[43m(\u001b[49m\u001b[43mm\u001b[49m\u001b[43m \u001b[49m\u001b[38;5;241;43m/\u001b[39;49m\u001b[43m \u001b[49m\u001b[38;5;241;43m2\u001b[39;49m\u001b[43m \u001b[49m\u001b[38;5;241;43m*\u001b[39;49m\u001b[38;5;241;43m*\u001b[39;49m\u001b[43m \u001b[49m\u001b[43mn\u001b[49m\u001b[43m)\u001b[49m\u001b[43m)\u001b[49m\u001b[43m)\u001b[49m\n\u001b[1;32m     37\u001b[0m     )\n",
      "\u001b[0;31mZeroDivisionError\u001b[0m: float division by zero"
     ]
    }
   ],
   "source": [
    "for graph in graph_db.get(n=4, p=39):\n",
    "    if _clique_size_to_search_for(graph, 2) > 1:\n",
    "        print(graph.graph_id)\n",
    "        print(graph)\n",
    "        break"
   ]
  },
  {
   "cell_type": "code",
   "execution_count": null,
   "id": "a034b31f",
   "metadata": {},
   "outputs": [],
   "source": [
    "#trials = Trials()\n",
    "#with trials._connect() as conn:\n",
    "#    cursor = conn.cursor()\n",
    "#    cursor.execute(\"DROP TABLE clique_trials;\")\n"
   ]
  },
  {
   "cell_type": "code",
   "execution_count": null,
   "id": "c9f51c37",
   "metadata": {},
   "outputs": [],
   "source": []
  }
 ],
 "metadata": {
  "kernelspec": {
   "display_name": ".venv-quantum-experiments",
   "language": "python",
   "name": "python3"
  },
  "language_info": {
   "codemirror_mode": {
    "name": "ipython",
    "version": 3
   },
   "file_extension": ".py",
   "mimetype": "text/x-python",
   "name": "python",
   "nbconvert_exporter": "python",
   "pygments_lexer": "ipython3",
   "version": "3.10.16"
  }
 },
 "nbformat": 4,
 "nbformat_minor": 5
}
