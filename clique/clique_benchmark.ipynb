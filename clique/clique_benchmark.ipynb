{
 "cells": [
  {
   "cell_type": "code",
   "execution_count": null,
   "id": "2e483942",
   "metadata": {},
   "outputs": [],
   "source": [
    "from clique_benchmark import run_benchmark_sample, clique_oracle_compiler_classical_function, Trials, CompileType, backend, direct_clique_oracle_circuit\n",
    "from graph_database import Graphs, Graph\n",
    "from qiskit_ibm_runtime import Batch\n",
    "\n",
    "graph_db = Graphs()"
   ]
  },
  {
   "cell_type": "code",
   "execution_count": null,
   "id": "ce00850c",
   "metadata": {},
   "outputs": [],
   "source": [
    "# run benchmark\n",
    "\n",
    "COMPILE_TYPE = CompileType.CLASSICAL_FUNCTION\n",
    "\n",
    "trial_db = Trials()\n",
    "\n",
    "for n in range(3,12):\n",
    "    # collect the graphs that are already in the database\n",
    "    # for small optimization (to reduce number of empty batches)\n",
    "    existing_graphs = set()\n",
    "    for trial in trial_db.get(n=n, compile_type=COMPILE_TYPE):\n",
    "        existing_graphs.add(trial.graph.g)\n",
    "\n",
    "    with Batch(backend) as batch:\n",
    "\n",
    "        for p in range(1, 100, 2):\n",
    "            graphs = list(filter(lambda g: g.g not in existing_graphs, graph_db.get(n=n, p=p)))\n",
    "            if len(graphs) == 0:\n",
    "                continue\n",
    "\n",
    "            at_least_one = False\n",
    "            for graph in graphs:\n",
    "                target_clique_size = max(n // 2, 2)  # search for big clique for now\n",
    "                if graph.clique_counts[target_clique_size] > 0:\n",
    "                    at_least_one = True\n",
    "                    break\n",
    "\n",
    "            # avoid empty batch\n",
    "            if not at_least_one:\n",
    "                continue\n",
    "\n",
    "        \n",
    "            for graph in graphs:\n",
    "                target_clique_size = max(n // 2, 2)  # search for big clique for now\n",
    "                if graph.clique_counts[target_clique_size] == 0:\n",
    "                    continue\n",
    "                print(f\"Running benchmark for graph {graph.g} with clique size {target_clique_size}\")\n",
    "                if COMPILE_TYPE == CompileType.CLASSICAL_FUNCTION:\n",
    "                    clique_oracle = clique_oracle_compiler_classical_function(graph.g, target_clique_size)\n",
    "                elif COMPILE_TYPE == CompileType.DIRECT:\n",
    "                    clique_oracle = direct_clique_oracle_circuit(graph.g, target_clique_size)\n",
    "\n",
    "                optimal_grover_iterations = graph.optimal_grover_iterations(target_clique_size)\n",
    "\n",
    "                for grover_iterations in range(1, optimal_grover_iterations + 1):\n",
    "                    run_benchmark_sample(\n",
    "                        graph=graph,\n",
    "                        compile_type=COMPILE_TYPE,\n",
    "                        clique_oracle=clique_oracle,\n",
    "                        clique_size=target_clique_size,\n",
    "                        grover_iterations=grover_iterations,\n",
    "                        shots=10**3,\n",
    "                        include_existing_trials=True\n",
    "                    )\n",
    "            \n",
    "        \n",
    "    \n"
   ]
  },
  {
   "cell_type": "code",
   "execution_count": null,
   "id": "63219c5e",
   "metadata": {},
   "outputs": [],
   "source": []
  }
 ],
 "metadata": {
  "kernelspec": {
   "display_name": ".venv-quantum-experiments",
   "language": "python",
   "name": "python3"
  },
  "language_info": {
   "codemirror_mode": {
    "name": "ipython",
    "version": 3
   },
   "file_extension": ".py",
   "mimetype": "text/x-python",
   "name": "python",
   "nbconvert_exporter": "python",
   "pygments_lexer": "ipython3",
   "version": "3.10.16"
  }
 },
 "nbformat": 4,
 "nbformat_minor": 5
}
