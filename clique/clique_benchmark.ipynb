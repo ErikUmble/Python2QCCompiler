{
 "cells": [
  {
   "cell_type": "code",
   "execution_count": null,
   "id": "2e483942",
   "metadata": {},
   "outputs": [],
   "source": [
    "from clique_benchmark import run_benchmark_sample, clique_oracle_compiler_classical_function, Trials, CompileType\n",
    "from graph_database import Graphs, Graph"
   ]
  },
  {
   "cell_type": "code",
   "execution_count": null,
   "id": "ce00850c",
   "metadata": {},
   "outputs": [],
   "source": [
    "graph_db = Graphs()\n",
    "graph = graph_db.get(graph_id=51376)[0]\n",
    "print(graph)\n",
    "from clique_benchmark import _clique_size_to_search_for\n",
    "print(_clique_size_to_search_for(graph, 1))\n"
   ]
  },
  {
   "cell_type": "code",
   "execution_count": null,
   "id": "ebaa0606",
   "metadata": {},
   "outputs": [],
   "source": [
    "run_benchmark_sample(\n",
    "    graph=graph,\n",
    "    clique_oracle_compiler=clique_oracle_compiler_classical_function,\n",
    "    clique_size=_clique_size_to_search_for(graph, 1),\n",
    "    compile_type=CompileType.CLASSICAL_FUNCTION,\n",
    "    grover_iterations=1\n",
    ")"
   ]
  },
  {
   "cell_type": "code",
   "execution_count": null,
   "id": "ebcf8d69",
   "metadata": {},
   "outputs": [],
   "source": [
    "graph.graph_id"
   ]
  },
  {
   "cell_type": "code",
   "execution_count": null,
   "id": "f1ecda6b",
   "metadata": {},
   "outputs": [],
   "source": [
    "target_grover_iterations = 2\n",
    "for graph in graph_db.get(n=4, p=39):\n",
    "    if _clique_size_to_search_for(graph, target_grover_iterations) > 1:\n",
    "        print(graph.graph_id)\n",
    "        print(graph)\n",
    "        print(_clique_size_to_search_for(graph, target_grover_iterations))\n",
    "        break"
   ]
  },
  {
   "cell_type": "code",
   "execution_count": null,
   "id": "c9f51c37",
   "metadata": {},
   "outputs": [],
   "source": []
  }
 ],
 "metadata": {
  "kernelspec": {
   "display_name": ".venv-quantum-experiments",
   "language": "python",
   "name": "python3"
  },
  "language_info": {
   "codemirror_mode": {
    "name": "ipython",
    "version": 3
   },
   "file_extension": ".py",
   "mimetype": "text/x-python",
   "name": "python",
   "nbconvert_exporter": "python",
   "pygments_lexer": "ipython3",
   "version": "3.10.16"
  }
 },
 "nbformat": 4,
 "nbformat_minor": 5
}
