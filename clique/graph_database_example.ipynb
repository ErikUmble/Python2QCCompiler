{
 "cells": [
  {
   "cell_type": "code",
   "execution_count": 1,
   "metadata": {},
   "outputs": [],
   "source": [
    "from graph_database import Graphs, Graph\n",
    "graphs = Graphs()"
   ]
  },
  {
   "cell_type": "code",
   "execution_count": 2,
   "metadata": {},
   "outputs": [
    {
     "name": "stdout",
     "output_type": "stream",
     "text": [
      "100 graphs found\n",
      "sample graph: 101110011101011\n",
      "6 cliques of size 3 (m = 7)\n",
      "1 cliques of size 4 (m = 1)\n",
      "0 cliques of size 5 (m = 0)\n",
      "0 cliques of size 6 (m = 0)\n"
     ]
    }
   ],
   "source": [
    "samples = graphs.get(n=6, p=71)  # convention for p is integer percentage (to avoid floating point imprecision)\n",
    "\n",
    "print(len(samples), \"graphs found\")\n",
    "\n",
    "\"\"\"\n",
    "Graph Schema:\n",
    "    graph_id: integer primary key\n",
    "    g: edge representation e_12 e_13 ... e_1n e_23 e_24 ... e_2n ... e_(n-1)n string of 0s and 1s\n",
    "    n: number of vertices\n",
    "    p: integer percentage (using this convention rather than float to avoid problematic floating point imprecision in the database)\n",
    "    clique_counts: list of integers, where the ith element is the number of n-bit strings for which the clique verifier for the graph returns True\n",
    "        NOTE: this is not the same thing as the number of cliques for each size; rather the number of cliques of size at least i (with the exception of index 0, since any string is a clique of size 0)\n",
    "        Use num_cliques_of_size to get the number of distinct cliques of a given size\n",
    "\"\"\"\n",
    "\n",
    "g = samples[4]\n",
    "edge_representation = g.g # alternatively, str(g)\n",
    "m_list = g.clique_counts\n",
    "num_vertices = g.n\n",
    "\n",
    "print(f\"sample graph: {edge_representation}\")\n",
    "for i in range(3, num_vertices+1):\n",
    "    print(f\"{g.num_cliques_of_size(i)} cliques of size {i} (m = {m_list[i]})\")"
   ]
  },
  {
   "cell_type": "code",
   "execution_count": 3,
   "metadata": {},
   "outputs": [
    {
     "name": "stdout",
     "output_type": "stream",
     "text": [
      "4\n",
      "[16, 11, 7, 2, 0]\n"
     ]
    }
   ],
   "source": [
    "g = Graph(\"110111\")\n",
    "print(g.n)\n",
    "print(g.clique_counts)"
   ]
  },
  {
   "cell_type": "code",
   "execution_count": null,
   "metadata": {},
   "outputs": [],
   "source": []
  }
 ],
 "metadata": {
  "kernelspec": {
   "display_name": "Python 3 (ipykernel)",
   "language": "python",
   "name": "python3"
  },
  "language_info": {
   "codemirror_mode": {
    "name": "ipython",
    "version": 3
   },
   "file_extension": ".py",
   "mimetype": "text/x-python",
   "name": "python",
   "nbconvert_exporter": "python",
   "pygments_lexer": "ipython3",
   "version": "3.10.17"
  }
 },
 "nbformat": 4,
 "nbformat_minor": 4
}
