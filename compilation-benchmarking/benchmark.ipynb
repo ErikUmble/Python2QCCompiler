{
 "cells": [
  {
   "cell_type": "code",
   "execution_count": null,
   "metadata": {},
   "outputs": [],
   "source": [
    "import os\n",
    "from dotenv import load_dotenv\n",
    "import json\n",
    "import random\n",
    "import matplotlib.pyplot as plt\n",
    "import numpy as np\n",
    "import asyncio\n",
    "\n",
    "from benchmark import run_benchmark_sample, Trials, mark_job_failure, create_compilation_failure_trial"
   ]
  },
  {
   "cell_type": "code",
   "execution_count": null,
   "metadata": {},
   "outputs": [],
   "source": [
    "# we are currently using include_existing_trials=True and slowly increasing the number of functions\n",
    "# to gather data across multiple runs\n",
    "# this allows us to get initial statistics across various complexities and number of variables before the entire benchmark is complete\n",
    "# we keep num_inputs=100 since these will not get filled in in future runs\n",
    "crashes = []\n",
    "def run_benchmark(include_existing_trials=True):\n",
    "    for complexity in range(8, 21):\n",
    "        for num_vars in range(2, 16):\n",
    "            if (num_vars, complexity) in crashes:\n",
    "                print(f\"Skipping {num_vars} vars and {complexity} complexity\")\n",
    "                continue\n",
    "            # lowering shots to 10**3 to meet new system constraint (it is either that or reduce num_inputs / split into more batches)\n",
    "            run_benchmark_sample(num_vars, complexity, num_functions=5, num_inputs=100, shots=10**3, include_existing_trials=include_existing_trials, circuits_per_job=25)\n",
    "\n"
   ]
  },
  {
   "cell_type": "code",
   "execution_count": null,
   "metadata": {},
   "outputs": [],
   "source": [
    "run_benchmark()\n"
   ]
  },
  {
   "cell_type": "code",
   "execution_count": null,
   "metadata": {},
   "outputs": [],
   "source": [
    "# run this cell to load the job results for all trials that are waiting pending job results\n",
    "trials = Trials()\n",
    "await trials.load_results()"
   ]
  },
  {
   "cell_type": "code",
   "execution_count": null,
   "metadata": {},
   "outputs": [],
   "source": [
    "with trials._connect() as conn:\n",
    "    cursor = conn.cursor()\n",
    "    cursor.execute(\"SELECT * FROM trials WHERE job_id = 'cz0ja91q2bag008ybrq0'\")\n",
    "    rows = cursor.fetchall()\n",
    "    print(rows)"
   ]
  },
  {
   "cell_type": "code",
   "execution_count": null,
   "metadata": {},
   "outputs": [],
   "source": [
    "# run for any statement that could not be compiled to a circuit\n",
    "trials = Trials()\n",
    "create_compilation_failure_trial(num_vars=15, complexity=18, statement=\"(((not (not (not (((((((((not ((not ((x3) and (x13))) or (not (x10)))) or (((x10) ^ (x9)) and (x11))) and (((x1) and (x8)) or (not (x14)))) or ((not ((x3) and (x13))) or (not (x10)))) and (not (not ((x4) and (x13))))) and ((((not ((not ((x3) and (x13))) or (not (x10)))) or (((x10) ^ (x9)) and (x11))) and (((x1) and (x8)) or (not (x14)))) ^ (((x1) and (x8)) or (not (x14))))) and (((not (((x4) and (x13)) and ((x7) or (x9)))) and ((x7) or (x9))) or (not (not (((x4) and (x13)) and ((x7) or (x9))))))) ^ ((((((x0) ^ (x10)) ^ (x2)) or (x0)) or (x11)) and ((not ((x1) and (x8))) or (not ((x1) and (x8)))))) or ((not ((((not ((x3) and (x13))) or (not (x10))) ^ (not (((x4) and (x13)) and ((x7) or (x9))))) and (not ((((x4) and (x13)) and ((x7) or (x9))) and (((x4) and (x13)) and ((x7) or (x9))))))) and ((x3) and (x13))))))) or (x4)) and (((x7) or (x9)) and ((x7) or (x9)))) or ((((((not (((not ((((not ((x3) and (x13))) or (not (x10))) ^ (((x4) and (x13)) and ((x7) or (x9)))) ^ ((((x0) ^ (x10)) ^ (x2)) or (x0)))) ^ (not (not (((not ((x1) and (x8))) ^ (not (x14))) ^ (x12))))) ^ (((((x1) ^ (x14)) ^ ((x9) or (x9))) or (x13)) ^ (x4)))) and ((((not ((not ((x3) and (x13))) or (not (x10)))) or (((x10) ^ (x9)) and (x11))) and (((x1) and (x8)) or (not (x14)))) ^ (((x1) and (x8)) or (not (x14))))) or ((x12) and (x4))) and (not (((((not ((x3) and (x13))) or (not (x10))) and (x7)) ^ (x14)) and ((x9) or (x9))))) or (x11)) ^ ((((x0) ^ (x10)) ^ (x2)) or (x0)))\", trials=trials)"
   ]
  },
  {
   "cell_type": "code",
   "execution_count": null,
   "metadata": {},
   "outputs": [],
   "source": [
    "# failures to execute the circuit\n",
    "failed = []\n",
    "for job_id in failed:\n",
    "    mark_job_failure(job_id)"
   ]
  },
  {
   "cell_type": "code",
   "execution_count": null,
   "metadata": {},
   "outputs": [],
   "source": [
    "# other failures (that should be removed from the circuit)\n",
    "failed = []\n",
    "for job_id in failed:\n",
    "    with trials._connect() as conn:\n",
    "        cursor = conn.cursor()\n",
    "        cursor.execute(\"DELETE FROM trials WHERE job_id = ?\", (job_id,))"
   ]
  },
  {
   "cell_type": "code",
   "execution_count": null,
   "metadata": {},
   "outputs": [],
   "source": [
    "# example code to retrieve results from the first trial of 2 variables 2 complexity\n",
    "trial = trials.get(num_vars=2, complexity=2)[0]\n",
    "print(\"Experimental results:\", trial.get_counts())\n",
    "print(\"Expected:\", trial.total_expected_results())\n",
    "print(\"Number of matches:\", trial.get_counts().get(trial.total_expected_results(), 0))\n",
    "print(\"Shot count:\", sum(trial.get_counts().values()))\n",
    "\n",
    "from function_generator import get_python_function\n",
    "print(\"Function used:\", end=\"\")\n",
    "print(get_python_function(trial.statement, trial.variables))\n"
   ]
  },
  {
   "cell_type": "code",
   "execution_count": null,
   "metadata": {},
   "outputs": [],
   "source": [
    "def get_probability_data(trials, function_success_threshold, use_hamming=False):\n",
    "    num_vars_data = []\n",
    "    complexity_data = []\n",
    "    probability_data = []\n",
    "\n",
    "    for num_vars in range(2, 33):\n",
    "        for complexity in range(1, 22):\n",
    "            print(f\"(num_vars, complexity) = ({num_vars}, {complexity})\")\n",
    "    \n",
    "            successful_function_count = 0\n",
    "            trials_by_function = trials.get_per_statement(num_vars=num_vars, complexity=complexity)\n",
    "            for function in trials_by_function.keys():\n",
    "                s = 0.0\n",
    "                for trial in trials_by_function[function]:\n",
    "                    if use_hamming:\n",
    "                        s += (1-trial.mean_hamming_distance)\n",
    "                    else:\n",
    "                        s += trial.exact_match_rate\n",
    "                    \n",
    "                if s / len(trials_by_function[function]) > function_success_threshold:\n",
    "                    successful_function_count += 1\n",
    "\n",
    "            if len(trials_by_function) == 0:\n",
    "                 print(f\"Warning: no results for {num_vars} variables, complexity {complexity}; skipping\")\n",
    "                 continue\n",
    "            \n",
    "            num_vars_data.append(num_vars)\n",
    "            complexity_data.append(complexity)\n",
    "            probability_data.append(successful_function_count / len(trials_by_function))\n",
    "    \n",
    "    return num_vars_data, complexity_data, probability_data\n",
    "    "
   ]
  },
  {
   "cell_type": "code",
   "execution_count": null,
   "metadata": {},
   "outputs": [],
   "source": [
    "trials = Trials()\n",
    "num_vars_data_exact, complexity_data_exact, probability_data_exact = get_probability_data(trials, 0.8, use_hamming=False)"
   ]
  },
  {
   "cell_type": "code",
   "execution_count": null,
   "metadata": {},
   "outputs": [],
   "source": [
    "trials = Trials()\n",
    "num_vars_data_hamming, complexity_data_hamming, probability_data_hamming = get_probability_data(trials, 0.8, use_hamming=True)"
   ]
  },
  {
   "cell_type": "code",
   "execution_count": null,
   "metadata": {},
   "outputs": [],
   "source": [
    "\n",
    "def plot_probability_data(num_vars_data, complexity_data, probability_data, title, threshold=None, filepath=None):\n",
    "    if threshold is not None:\n",
    "        colors = ['green' if p > threshold else 'red' for p in probability_data]\n",
    "    else:\n",
    "        colors = probability_data\n",
    "\n",
    "    plt.figure(figsize=(20, 10))\n",
    "    plt.scatter(num_vars_data, complexity_data, c=probability_data, cmap='RdYlGn', edgecolors='black', alpha=0.75, s=450)\n",
    "    plt.xticks(np.arange(min(num_vars_data), max(num_vars_data) + 1, 1))\n",
    "    plt.yticks(np.arange(min(complexity_data), max(complexity_data) + 1, 1))\n",
    "\n",
    "    plt.xlabel('Variables Count')\n",
    "    plt.ylabel('Complexity')\n",
    "    plt.title(title)\n",
    "    cbar = plt.colorbar()\n",
    "    if filepath is not None:\n",
    "        plt.savefig(filepath, dpi=300, bbox_inches='tight')\n",
    "    plt.show()"
   ]
  },
  {
   "cell_type": "code",
   "execution_count": null,
   "metadata": {},
   "outputs": [],
   "source": [
    "plot_probability_data(num_vars_data_exact, complexity_data_exact, probability_data_exact, 'Proportion of functions with exact match rate > 0.8', filepath='exact_match_rate.png')"
   ]
  },
  {
   "cell_type": "code",
   "execution_count": null,
   "metadata": {},
   "outputs": [],
   "source": [
    "plot_probability_data(num_vars_data_hamming, complexity_data_hamming, probability_data_hamming, 'Proportion of functions with mean hamming distance < 0.2', filepath='hamming_distance.png')"
   ]
  },
  {
   "cell_type": "code",
   "execution_count": null,
   "metadata": {},
   "outputs": [],
   "source": [
    "# plot the number of functions we have data for, for each number of variables and complexity\n",
    "trials = Trials()\n",
    "num_vars_data = []\n",
    "complexity_data = []\n",
    "function_count_data = []\n",
    "\n",
    "for num_vars in range(2, 33):\n",
    "        for complexity in range(1, 22):\n",
    "            with trials._connect() as conn:\n",
    "                cursor = conn.cursor()\n",
    "                cursor.execute(\"SELECT COUNT(DISTINCT statement) FROM trials WHERE num_vars = ? AND complexity = ? AND NOT counts = ''\", (num_vars, complexity))\n",
    "                count = cursor.fetchone()[0]\n",
    "                num_vars_data.append(num_vars)\n",
    "                complexity_data.append(complexity)\n",
    "                function_count_data.append(count)\n",
    "            print(f\"(num_vars, complexity) = ({num_vars}, {complexity})\")\n",
    "\n"
   ]
  },
  {
   "cell_type": "code",
   "execution_count": null,
   "metadata": {},
   "outputs": [],
   "source": [
    "for i in range(len(function_count_data)):\n",
    "    if function_count_data[i] > 30:\n",
    "        function_count_data[i] = 30"
   ]
  },
  {
   "cell_type": "code",
   "execution_count": null,
   "metadata": {},
   "outputs": [],
   "source": [
    "def plot_counts_data(num_vars_data, complexity_data, probability_data, title, threshold=None, filepath=None):\n",
    "    if threshold is not None:\n",
    "        colors = ['green' if p > threshold else 'red' for p in probability_data]\n",
    "    else:\n",
    "        colors = probability_data\n",
    "\n",
    "    plt.figure(figsize=(10, 10))\n",
    "    plt.scatter(num_vars_data, complexity_data, c=probability_data, cmap='RdYlGn', edgecolors='black', alpha=0.75, s=250)\n",
    "    plt.xticks(np.arange(min(num_vars_data), max(num_vars_data) + 1, 1))\n",
    "    plt.yticks(np.arange(min(complexity_data), max(complexity_data) + 1, 1))\n",
    "\n",
    "    plt.xlabel('Variables Count')\n",
    "    plt.ylabel('Complexity')\n",
    "    plt.title(title)\n",
    "    cbar = plt.colorbar()\n",
    "    if filepath is not None:\n",
    "        plt.savefig(filepath, dpi=300, bbox_inches='tight')\n",
    "    plt.show()\n",
    "    \n",
    "plot_counts_data(num_vars_data, complexity_data, function_count_data, 'Number of functions with data', filepath='function_count.png')"
   ]
  },
  {
   "cell_type": "code",
   "execution_count": null,
   "metadata": {},
   "outputs": [],
   "source": [
    "partials = []\n",
    "for i in range(len(function_count_data)):\n",
    "    if function_count_data[i] > 0 and function_count_data[i] < 15:\n",
    "        partials.append((num_vars_data[i], complexity_data[i]))\n",
    "print(partials)"
   ]
  },
  {
   "cell_type": "code",
   "execution_count": null,
   "metadata": {},
   "outputs": [],
   "source": []
  }
 ],
 "metadata": {
  "kernelspec": {
   "display_name": ".venv-quantum-experiments",
   "language": "python",
   "name": "python3"
  },
  "language_info": {
   "codemirror_mode": {
    "name": "ipython",
    "version": 3
   },
   "file_extension": ".py",
   "mimetype": "text/x-python",
   "name": "python",
   "nbconvert_exporter": "python",
   "pygments_lexer": "ipython3",
   "version": "3.10.16"
  }
 },
 "nbformat": 4,
 "nbformat_minor": 2
}
