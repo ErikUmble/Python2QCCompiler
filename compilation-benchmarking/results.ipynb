{
 "cells": [
  {
   "cell_type": "code",
   "execution_count": null,
   "id": "4f7b5ccc",
   "metadata": {},
   "outputs": [],
   "source": [
    "import os\n",
    "from dotenv import load_dotenv\n",
    "import json\n",
    "import random\n",
    "import matplotlib.pyplot as plt\n",
    "import numpy as np\n",
    "import asyncio\n",
    "\n",
    "from benchmark import run_benchmark_sample, Trials, mark_job_failure, create_compilation_failure_trial"
   ]
  },
  {
   "cell_type": "code",
   "execution_count": null,
   "id": "39c75ee3",
   "metadata": {},
   "outputs": [],
   "source": [
    "# run this cell to load the job results for all trials that are waiting pending job results\n",
    "trials = Trials()\n",
    "await trials.load_results()"
   ]
  },
  {
   "cell_type": "code",
   "execution_count": null,
   "id": "9b513c5f",
   "metadata": {},
   "outputs": [],
   "source": [
    "def get_probability_data(trials, function_success_threshold, use_hamming=False):\n",
    "    num_vars_data = []\n",
    "    complexity_data = []\n",
    "    probability_data = []\n",
    "\n",
    "    for num_vars in range(2, 33):\n",
    "        for complexity in range(1, 22):\n",
    "            print(f\"(num_vars, complexity) = ({num_vars}, {complexity})\")\n",
    "    \n",
    "            successful_function_count = 0\n",
    "            trials_by_function = trials.get_per_statement(num_vars=num_vars, complexity=complexity)\n",
    "            for function in trials_by_function.keys():\n",
    "                s = 0.0\n",
    "                for trial in trials_by_function[function]:\n",
    "                    if use_hamming:\n",
    "                        s += (1-trial.mean_hamming_distance)\n",
    "                    else:\n",
    "                        s += trial.exact_match_rate\n",
    "                    \n",
    "                if s / len(trials_by_function[function]) > function_success_threshold:\n",
    "                    successful_function_count += 1\n",
    "\n",
    "            if len(trials_by_function) == 0:\n",
    "                 print(f\"Warning: no results for {num_vars} variables, complexity {complexity}; skipping\")\n",
    "                 continue\n",
    "            \n",
    "            num_vars_data.append(num_vars)\n",
    "            complexity_data.append(complexity)\n",
    "            probability_data.append(successful_function_count / len(trials_by_function))\n",
    "    \n",
    "    return num_vars_data, complexity_data, probability_data"
   ]
  },
  {
   "cell_type": "code",
   "execution_count": null,
   "id": "7bd2400d",
   "metadata": {},
   "outputs": [],
   "source": [
    "trials = Trials()\n",
    "num_vars_data_exact, complexity_data_exact, probability_data_exact = get_probability_data(trials, 0.6, use_hamming=False)"
   ]
  },
  {
   "cell_type": "code",
   "execution_count": null,
   "id": "6d47d0bf",
   "metadata": {},
   "outputs": [],
   "source": [
    "trials = Trials()\n",
    "num_vars_data_hamming, complexity_data_hamming, probability_data_hamming = get_probability_data(trials, 0.8, use_hamming=True)"
   ]
  },
  {
   "cell_type": "code",
   "execution_count": null,
   "id": "a36aa135",
   "metadata": {},
   "outputs": [],
   "source": [
    "def plot_probability_data(num_vars_data, complexity_data, probability_data, title, threshold=None, filepath=None):\n",
    "    if threshold is not None:\n",
    "        colors = ['green' if p > threshold else 'red' for p in probability_data]\n",
    "    else:\n",
    "        colors = probability_data\n",
    "\n",
    "    plt.figure(figsize=(20, 10))\n",
    "    plt.scatter(num_vars_data, complexity_data, c=probability_data, cmap='RdYlGn', edgecolors='black', alpha=0.75, s=450)\n",
    "    plt.xticks(np.arange(min(num_vars_data), max(num_vars_data) + 1, 1))\n",
    "    plt.yticks(np.arange(min(complexity_data), max(complexity_data) + 1, 1))\n",
    "\n",
    "    plt.xlabel('Variables Count')\n",
    "    plt.ylabel('Complexity')\n",
    "    plt.title(title)\n",
    "    cbar = plt.colorbar()\n",
    "    if filepath is not None:\n",
    "        plt.savefig(filepath, dpi=300, bbox_inches='tight')\n",
    "    plt.show()\n",
    "\n",
    "def plot_counts_data(num_vars_data, complexity_data, probability_data, title, threshold=None, filepath=None):\n",
    "    if threshold is not None:\n",
    "        colors = ['green' if p > threshold else 'red' for p in probability_data]\n",
    "    else:\n",
    "        colors = probability_data\n",
    "\n",
    "    plt.figure(figsize=(10, 10))\n",
    "    plt.scatter(num_vars_data, complexity_data, c=probability_data, cmap='RdYlGn', edgecolors='black', alpha=0.75, s=250)\n",
    "    plt.xticks(np.arange(min(num_vars_data), max(num_vars_data) + 1, 1))\n",
    "    plt.yticks(np.arange(min(complexity_data), max(complexity_data) + 1, 1))\n",
    "\n",
    "    plt.xlabel('Variables Count')\n",
    "    plt.ylabel('Complexity')\n",
    "    plt.title(title)\n",
    "    cbar = plt.colorbar()\n",
    "    if filepath is not None:\n",
    "        plt.savefig(filepath, dpi=300, bbox_inches='tight')\n",
    "    plt.show()"
   ]
  },
  {
   "cell_type": "code",
   "execution_count": null,
   "id": "44696f68",
   "metadata": {},
   "outputs": [],
   "source": [
    "plot_probability_data(num_vars_data_exact, complexity_data_exact, probability_data_exact, 'Proportion of functions with exact match rate > 0.6', filepath='exact_match_rate.png')"
   ]
  },
  {
   "cell_type": "code",
   "execution_count": null,
   "id": "62499ed6",
   "metadata": {},
   "outputs": [],
   "source": [
    "# plot the number of functions we have data for, for each number of variables and complexity\n",
    "trials = Trials()\n",
    "num_vars_data = []\n",
    "complexity_data = []\n",
    "function_count_data = []\n",
    "\n",
    "for num_vars in range(2, 33):\n",
    "        for complexity in range(1, 22):\n",
    "            with trials._connect() as conn:\n",
    "                cursor = conn.cursor()\n",
    "                cursor.execute(\"SELECT COUNT(DISTINCT statement) FROM trials WHERE num_vars = ? AND complexity = ? AND NOT counts = ''\", (num_vars, complexity))\n",
    "                count = cursor.fetchone()[0]\n",
    "                num_vars_data.append(num_vars)\n",
    "                complexity_data.append(complexity)\n",
    "                function_count_data.append(count)\n",
    "            print(f\"(num_vars, complexity) = ({num_vars}, {complexity})\")"
   ]
  },
  {
   "cell_type": "code",
   "execution_count": null,
   "id": "ea8da4f1",
   "metadata": {},
   "outputs": [],
   "source": [
    "for i in range(len(function_count_data)):\n",
    "    if function_count_data[i] > 30:\n",
    "        function_count_data[i] = 30"
   ]
  },
  {
   "cell_type": "code",
   "execution_count": null,
   "id": "52e2e5a5",
   "metadata": {},
   "outputs": [],
   "source": [
    "plot_counts_data(num_vars_data, complexity_data, function_count_data, 'Number of functions with data', filepath='function_count.png')"
   ]
  },
  {
   "cell_type": "code",
   "execution_count": null,
   "id": "1b904b50",
   "metadata": {},
   "outputs": [],
   "source": []
  }
 ],
 "metadata": {
  "kernelspec": {
   "display_name": ".venv-quantum-experiments",
   "language": "python",
   "name": "python3"
  },
  "language_info": {
   "codemirror_mode": {
    "name": "ipython",
    "version": 3
   },
   "file_extension": ".py",
   "mimetype": "text/x-python",
   "name": "python",
   "nbconvert_exporter": "python",
   "pygments_lexer": "ipython3",
   "version": "3.10.16"
  }
 },
 "nbformat": 4,
 "nbformat_minor": 5
}
